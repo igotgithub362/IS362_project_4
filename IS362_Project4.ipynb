{
 "cells": [
  {
   "cell_type": "markdown",
   "id": "32623a01",
   "metadata": {},
   "source": [
    "# Project 4 – Predictive Analysis using scikit-learn"
   ]
  },
  {
   "cell_type": "markdown",
   "id": "6714358d",
   "metadata": {},
   "source": [
    "• Start with the mushroom data in the pandas DataFrame that you constructed in your “Assignment – \n",
    "Preprocessing Data with sci-kit learn.” \n",
    "• Use scikit-learn to determine which of the two predictor columns that you selected (odor and one \n",
    "other column of your choice) most accurately predicts whether or not a mushroom is poisonous.  There is \n",
    "an additional challenge here—to use scikit-learn’s predictive classifiers, you’ll want to convert each of \n",
    "your two (numeric categorical) predictor columns into a set of columns.  See for one approach pandas \n",
    "get_dummies() method. \n",
    "• Clearly state your conclusions along with any recommendations for further analysis."
   ]
  },
  {
   "cell_type": "markdown",
   "id": "9da664e3",
   "metadata": {},
   "source": [
    "## Import libraries"
   ]
  },
  {
   "cell_type": "code",
   "execution_count": 1,
   "id": "26f7909b",
   "metadata": {},
   "outputs": [],
   "source": [
    "import pandas as pd\n",
    "import numpy as np\n",
    "\n",
    "# scikit-learn imports \n",
    "from sklearn import metrics\n",
    "from sklearn.linear_model import LogisticRegression\n",
    "from sklearn.model_selection import train_test_split"
   ]
  },
  {
   "cell_type": "markdown",
   "id": "38438677",
   "metadata": {},
   "source": [
    "## Build our DataFrame"
   ]
  },
  {
   "cell_type": "code",
   "execution_count": 2,
   "id": "bb1a7d4d",
   "metadata": {},
   "outputs": [],
   "source": [
    "url = 'https://archive.ics.uci.edu/ml/machine-learning-databases/mushroom/agaricus-lepiota.data'\n",
    "\n",
    "# read data to DataFrame using meaningful column names\n",
    "df = pd.read_csv(url, usecols=[0,5,22], header=None, names=['Edible', 'Odor','Habitat'])\n",
    "\n",
    "# copy dataframe to preserve original\n",
    "df_mushroom = df.copy()"
   ]
  },
  {
   "cell_type": "markdown",
   "id": "d877e60c",
   "metadata": {},
   "source": [
    "## Display DataFrame"
   ]
  },
  {
   "cell_type": "code",
   "execution_count": 3,
   "id": "25bc075b",
   "metadata": {},
   "outputs": [
    {
     "data": {
      "text/html": [
       "<div>\n",
       "<style scoped>\n",
       "    .dataframe tbody tr th:only-of-type {\n",
       "        vertical-align: middle;\n",
       "    }\n",
       "\n",
       "    .dataframe tbody tr th {\n",
       "        vertical-align: top;\n",
       "    }\n",
       "\n",
       "    .dataframe thead th {\n",
       "        text-align: right;\n",
       "    }\n",
       "</style>\n",
       "<table border=\"1\" class=\"dataframe\">\n",
       "  <thead>\n",
       "    <tr style=\"text-align: right;\">\n",
       "      <th></th>\n",
       "      <th>Edible</th>\n",
       "      <th>Odor</th>\n",
       "      <th>Habitat</th>\n",
       "    </tr>\n",
       "  </thead>\n",
       "  <tbody>\n",
       "    <tr>\n",
       "      <th>0</th>\n",
       "      <td>p</td>\n",
       "      <td>p</td>\n",
       "      <td>u</td>\n",
       "    </tr>\n",
       "    <tr>\n",
       "      <th>1</th>\n",
       "      <td>e</td>\n",
       "      <td>a</td>\n",
       "      <td>g</td>\n",
       "    </tr>\n",
       "    <tr>\n",
       "      <th>2</th>\n",
       "      <td>e</td>\n",
       "      <td>l</td>\n",
       "      <td>m</td>\n",
       "    </tr>\n",
       "    <tr>\n",
       "      <th>3</th>\n",
       "      <td>p</td>\n",
       "      <td>p</td>\n",
       "      <td>u</td>\n",
       "    </tr>\n",
       "    <tr>\n",
       "      <th>4</th>\n",
       "      <td>e</td>\n",
       "      <td>n</td>\n",
       "      <td>g</td>\n",
       "    </tr>\n",
       "  </tbody>\n",
       "</table>\n",
       "</div>"
      ],
      "text/plain": [
       "  Edible Odor Habitat\n",
       "0      p    p       u\n",
       "1      e    a       g\n",
       "2      e    l       m\n",
       "3      p    p       u\n",
       "4      e    n       g"
      ]
     },
     "execution_count": 3,
     "metadata": {},
     "output_type": "execute_result"
    }
   ],
   "source": [
    "df_mushroom.head()"
   ]
  },
  {
   "cell_type": "markdown",
   "id": "03be3cd0",
   "metadata": {},
   "source": [
    "## Converting for \"Numerical Categorical\""
   ]
  },
  {
   "cell_type": "code",
   "execution_count": 4,
   "id": "e8a3efbd",
   "metadata": {},
   "outputs": [
    {
     "data": {
      "text/html": [
       "<div>\n",
       "<style scoped>\n",
       "    .dataframe tbody tr th:only-of-type {\n",
       "        vertical-align: middle;\n",
       "    }\n",
       "\n",
       "    .dataframe tbody tr th {\n",
       "        vertical-align: top;\n",
       "    }\n",
       "\n",
       "    .dataframe thead th {\n",
       "        text-align: right;\n",
       "    }\n",
       "</style>\n",
       "<table border=\"1\" class=\"dataframe\">\n",
       "  <thead>\n",
       "    <tr style=\"text-align: right;\">\n",
       "      <th></th>\n",
       "      <th>Edible_p</th>\n",
       "      <th>Odor_c</th>\n",
       "      <th>Odor_f</th>\n",
       "      <th>Odor_l</th>\n",
       "      <th>Odor_m</th>\n",
       "      <th>Odor_n</th>\n",
       "      <th>Odor_p</th>\n",
       "      <th>Odor_s</th>\n",
       "      <th>Odor_y</th>\n",
       "      <th>Habitat_g</th>\n",
       "      <th>Habitat_l</th>\n",
       "      <th>Habitat_m</th>\n",
       "      <th>Habitat_p</th>\n",
       "      <th>Habitat_u</th>\n",
       "      <th>Habitat_w</th>\n",
       "    </tr>\n",
       "  </thead>\n",
       "  <tbody>\n",
       "    <tr>\n",
       "      <th>0</th>\n",
       "      <td>1</td>\n",
       "      <td>0</td>\n",
       "      <td>0</td>\n",
       "      <td>0</td>\n",
       "      <td>0</td>\n",
       "      <td>0</td>\n",
       "      <td>1</td>\n",
       "      <td>0</td>\n",
       "      <td>0</td>\n",
       "      <td>0</td>\n",
       "      <td>0</td>\n",
       "      <td>0</td>\n",
       "      <td>0</td>\n",
       "      <td>1</td>\n",
       "      <td>0</td>\n",
       "    </tr>\n",
       "    <tr>\n",
       "      <th>1</th>\n",
       "      <td>0</td>\n",
       "      <td>0</td>\n",
       "      <td>0</td>\n",
       "      <td>0</td>\n",
       "      <td>0</td>\n",
       "      <td>0</td>\n",
       "      <td>0</td>\n",
       "      <td>0</td>\n",
       "      <td>0</td>\n",
       "      <td>1</td>\n",
       "      <td>0</td>\n",
       "      <td>0</td>\n",
       "      <td>0</td>\n",
       "      <td>0</td>\n",
       "      <td>0</td>\n",
       "    </tr>\n",
       "    <tr>\n",
       "      <th>2</th>\n",
       "      <td>0</td>\n",
       "      <td>0</td>\n",
       "      <td>0</td>\n",
       "      <td>1</td>\n",
       "      <td>0</td>\n",
       "      <td>0</td>\n",
       "      <td>0</td>\n",
       "      <td>0</td>\n",
       "      <td>0</td>\n",
       "      <td>0</td>\n",
       "      <td>0</td>\n",
       "      <td>1</td>\n",
       "      <td>0</td>\n",
       "      <td>0</td>\n",
       "      <td>0</td>\n",
       "    </tr>\n",
       "    <tr>\n",
       "      <th>3</th>\n",
       "      <td>1</td>\n",
       "      <td>0</td>\n",
       "      <td>0</td>\n",
       "      <td>0</td>\n",
       "      <td>0</td>\n",
       "      <td>0</td>\n",
       "      <td>1</td>\n",
       "      <td>0</td>\n",
       "      <td>0</td>\n",
       "      <td>0</td>\n",
       "      <td>0</td>\n",
       "      <td>0</td>\n",
       "      <td>0</td>\n",
       "      <td>1</td>\n",
       "      <td>0</td>\n",
       "    </tr>\n",
       "    <tr>\n",
       "      <th>4</th>\n",
       "      <td>0</td>\n",
       "      <td>0</td>\n",
       "      <td>0</td>\n",
       "      <td>0</td>\n",
       "      <td>0</td>\n",
       "      <td>1</td>\n",
       "      <td>0</td>\n",
       "      <td>0</td>\n",
       "      <td>0</td>\n",
       "      <td>1</td>\n",
       "      <td>0</td>\n",
       "      <td>0</td>\n",
       "      <td>0</td>\n",
       "      <td>0</td>\n",
       "      <td>0</td>\n",
       "    </tr>\n",
       "  </tbody>\n",
       "</table>\n",
       "</div>"
      ],
      "text/plain": [
       "   Edible_p  Odor_c  Odor_f  Odor_l  Odor_m  Odor_n  ...  Habitat_g  Habitat_l  Habitat_m  Habitat_p  Habitat_u  Habitat_w\n",
       "0         1       0       0       0       0       0  ...          0          0          0          0          1          0\n",
       "1         0       0       0       0       0       0  ...          1          0          0          0          0          0\n",
       "2         0       0       0       1       0       0  ...          0          0          1          0          0          0\n",
       "3         1       0       0       0       0       0  ...          0          0          0          0          1          0\n",
       "4         0       0       0       0       0       1  ...          1          0          0          0          0          0\n",
       "\n",
       "[5 rows x 15 columns]"
      ]
     },
     "execution_count": 4,
     "metadata": {},
     "output_type": "execute_result"
    }
   ],
   "source": [
    "df_expanded = pd.get_dummies(df_mushroom, columns=['Edible', 'Odor', 'Habitat'], drop_first=True)\n",
    "\n",
    "# view first 5 rows\n",
    "df_expanded.head()"
   ]
  },
  {
   "cell_type": "markdown",
   "id": "37a56c77",
   "metadata": {},
   "source": [
    "## Predictive Classifiers Training"
   ]
  },
  {
   "cell_type": "code",
   "execution_count": 5,
   "id": "12b0a025",
   "metadata": {},
   "outputs": [
    {
     "data": {
      "text/plain": [
       "LogisticRegression()"
      ]
     },
     "execution_count": 5,
     "metadata": {},
     "output_type": "execute_result"
    }
   ],
   "source": [
    "# set X values\n",
    "X = df_expanded.iloc[:, 1:]\n",
    "\n",
    "# sey y values\n",
    "y = df_expanded.Edible_p\n",
    "\n",
    "# split X and y into training and testing sets using random state for reproducibility\n",
    "X_train, X_test, y_train, y_test = train_test_split(X, y, random_state=1)\n",
    "\n",
    "# train the logistic regression model using training set\n",
    "logreg = LogisticRegression()\n",
    "logreg.fit(X_train, y_train)"
   ]
  },
  {
   "cell_type": "markdown",
   "id": "d677aeb2",
   "metadata": {},
   "source": [
    "## Predicting Y Values from X_test"
   ]
  },
  {
   "cell_type": "code",
   "execution_count": 6,
   "id": "ef13535e",
   "metadata": {},
   "outputs": [],
   "source": [
    "# store predictions for the testing set\n",
    "y_pred = logreg.predict(X_test)"
   ]
  },
  {
   "cell_type": "code",
   "execution_count": 7,
   "id": "23f4d56f",
   "metadata": {},
   "outputs": [
    {
     "name": "stdout",
     "output_type": "stream",
     "text": [
      "Accuracy Percentage: 98.23\n"
     ]
    }
   ],
   "source": [
    "# calculate accuracy of predictions\n",
    "accuracy = metrics.accuracy_score(y_test, y_pred)\n",
    "\n",
    "# display accruacy in a more readable format\n",
    "print('Accuracy Percentage: {}'.format(np.format_float_positional(accuracy*100, precision=2)))"
   ]
  },
  {
   "cell_type": "code",
   "execution_count": 8,
   "id": "173d2cf8",
   "metadata": {},
   "outputs": [
    {
     "name": "stdout",
     "output_type": "stream",
     "text": [
      "True: [0 1 1 1 0 1 1 0 1 1 1 1 1 1 0 0 1 0 1 0 0 0 0 0 0 1 0 1 1 0]\n",
      "Pred: [0 1 1 1 0 1 1 0 1 1 1 1 1 1 0 0 1 0 1 0 0 0 0 0 0 1 0 1 1 0]\n"
     ]
    }
   ],
   "source": [
    "# print the first 30 true and predicted responses\n",
    "print('True:', y_test.values[0:30])\n",
    "print('Pred:', y_pred[0:30])"
   ]
  },
  {
   "cell_type": "markdown",
   "id": "0ce47db7",
   "metadata": {},
   "source": [
    "## Conclusion"
   ]
  },
  {
   "cell_type": "markdown",
   "id": "e16c4c6d",
   "metadata": {},
   "source": [
    "Using the \"Edible\", \"Odor\", and \"Habitat\" predictor columns gave us a fairly high prediction accuracy. Since we have such a high accuracy, this indicates that these columns were a good fit for predicting whether or not a mushroom was edible or not. Odor itself seems like it plays a major role in prediciting edibility, so coupling that with habitat was a good choice."
   ]
  },
  {
   "cell_type": "code",
   "execution_count": null,
   "id": "0422242b",
   "metadata": {},
   "outputs": [],
   "source": []
  }
 ],
 "metadata": {
  "kernelspec": {
   "display_name": "Python 3",
   "language": "python",
   "name": "python3"
  },
  "language_info": {
   "codemirror_mode": {
    "name": "ipython",
    "version": 3
   },
   "file_extension": ".py",
   "mimetype": "text/x-python",
   "name": "python",
   "nbconvert_exporter": "python",
   "pygments_lexer": "ipython3",
   "version": "3.9.4"
  }
 },
 "nbformat": 4,
 "nbformat_minor": 5
}
